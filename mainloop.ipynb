{
 "cells": [
  {
   "cell_type": "code",
   "execution_count": 7,
   "metadata": {},
   "outputs": [
    {
     "ename": "ModuleNotFoundError",
     "evalue": "No module named 'model'",
     "output_type": "error",
     "traceback": [
      "\u001b[1;31m---------------------------------------------------------------------------\u001b[0m",
      "\u001b[1;31mModuleNotFoundError\u001b[0m                       Traceback (most recent call last)",
      "\u001b[1;32m<ipython-input-7-99bca639756a>\u001b[0m in \u001b[0;36m<module>\u001b[1;34m()\u001b[0m\n\u001b[0;32m      1\u001b[0m \u001b[1;32mimport\u001b[0m \u001b[0mgym\u001b[0m\u001b[1;33m\u001b[0m\u001b[0m\n\u001b[1;32m----> 2\u001b[1;33m \u001b[1;32mfrom\u001b[0m \u001b[0mmodel\u001b[0m \u001b[1;32mimport\u001b[0m \u001b[0mDeepQNetwork\u001b[0m\u001b[1;33m,\u001b[0m \u001b[0mAgent\u001b[0m\u001b[1;33m\u001b[0m\u001b[0m\n\u001b[0m\u001b[0;32m      3\u001b[0m \u001b[1;32mfrom\u001b[0m \u001b[0mutils\u001b[0m \u001b[1;32mimport\u001b[0m \u001b[0mplotLearning\u001b[0m\u001b[1;33m\u001b[0m\u001b[0m\n\u001b[0;32m      4\u001b[0m \u001b[1;32mimport\u001b[0m \u001b[0mnumpy\u001b[0m \u001b[1;32mas\u001b[0m \u001b[0mnp\u001b[0m\u001b[1;33m\u001b[0m\u001b[0m\n\u001b[0;32m      5\u001b[0m \u001b[1;33m\u001b[0m\u001b[0m\n",
      "\u001b[1;31mModuleNotFoundError\u001b[0m: No module named 'model'"
     ]
    }
   ],
   "source": [
    "import gym\n",
    "from model import DeepQNetwork, Agent\n",
    "from utils import plotLearning \n",
    "import numpy as np\n",
    "\n",
    "\n",
    "\n",
    "if __name__=='__main__':\n",
    "    env = gym.make('SpaceInvaders-0')\n",
    "    brain = Agent(gamma=0.95, epsilon =1.0, alpha =0.003, maxMemorySize=5000, replace=None)\n",
    "    \n",
    "    while brain.memCntr <brain.memSize:\n",
    "        observation =env.reset()\n",
    "        done=False\n",
    "        while not done:\n",
    "            #0 no action, 1 fire, 2 move right, 3 move left, 4 move right, fire, 5 move left fire\n",
    "            action = env.action_space.sample()\n",
    "            observation_, reward, done, info = en.step(action)\n",
    "            if done and info['ale.lives']==0:\n",
    "                reward =-100\n",
    "            brain.storeTransition(np.mean(observation[15:200, 30:125], axis =2), action, reward, np.mean(observation_[15:200, 30:125], axis =2))\n",
    "            observation = observation_ \n",
    "    print('Done Initializing Memory')\n",
    "    \n",
    "    scores=[]\n",
    "    epsHistory=[]\n",
    "    numGames = 50\n",
    "    batch_size=32\n",
    "    \n",
    "    for i in range(numGames):\n",
    "        print('starting game', i+1, 'epsilon: %.4f'%brain.EPSILON)\n",
    "        epsHsitory.append(brain.EPSILON)\n",
    "        done =False\n",
    "        observation = env.reset()\n",
    "        frames = [np.sum(observation[15:200, 30:125], axis=2)]\n",
    "        score = 0\n",
    "        lastAction =0\n",
    "        \n",
    "        while not done:\n",
    "            if len(frames)==3:\n",
    "                action = brain.chooseAction(frames)\n",
    "                frames=[]\n",
    "            else:\n",
    "                action=lastAction\n",
    "            observation_, reward, done, info = env.step(action)\n",
    "            score+=reward\n",
    "            frames.append(np.sum(observation_[15:200, 30:125], axis=2))\n",
    "            if done and info['ale.lives']==0:\n",
    "                reward =-100\n",
    "            brain.storeTransition(np.mean(observation[15:200, 30:125], axis=2), action, reward, np.mean(observation_[15:200, 30:125], axis=2))\n",
    "            brain.learn(batch_size)\n",
    "            lastAction =action\n",
    "            #renders the enviroment \n",
    "        scores.append(score)\n",
    "        print('score ', score)\n",
    "        x=[i+1  for i in range(numGames)]\n",
    "        fileName = 'test'+ str(numGames)+ '.png'\n",
    "        plotLearning(x, scores, epsHistory, fileName)\n",
    "            \n",
    "            \n",
    "            "
   ]
  },
  {
   "cell_type": "code",
   "execution_count": null,
   "metadata": {},
   "outputs": [],
   "source": []
  }
 ],
 "metadata": {
  "kernelspec": {
   "display_name": "Python 3",
   "language": "python",
   "name": "python3"
  },
  "language_info": {
   "codemirror_mode": {
    "name": "ipython",
    "version": 3
   },
   "file_extension": ".py",
   "mimetype": "text/x-python",
   "name": "python",
   "nbconvert_exporter": "python",
   "pygments_lexer": "ipython3",
   "version": "3.7.0"
  }
 },
 "nbformat": 4,
 "nbformat_minor": 2
}
